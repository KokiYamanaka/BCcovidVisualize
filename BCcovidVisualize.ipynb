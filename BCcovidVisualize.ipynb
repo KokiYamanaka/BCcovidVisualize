{
  "nbformat": 4,
  "nbformat_minor": 0,
  "metadata": {
    "colab": {
      "name": "BCcovidVisualize.ipynb",
      "provenance": []
    },
    "kernelspec": {
      "name": "python3",
      "display_name": "Python 3"
    },
    "language_info": {
      "name": "python"
    }
  },
  "cells": [
    {
      "cell_type": "code",
      "execution_count": 1,
      "metadata": {
        "colab": {
          "base_uri": "https://localhost:8080/",
          "height": 317
        },
        "id": "cC-ESayiMpie",
        "outputId": "4da0fbaf-744e-4d5c-acfb-6f904ad4ef9f"
      },
      "outputs": [
        {
          "output_type": "stream",
          "name": "stdout",
          "text": [
            "Month case : green AND Week case : red\n",
            "British Columbia weekly covid case are : 1044\n",
            "British Columbia monthly covid case are : 4156\n"
          ]
        },
        {
          "output_type": "display_data",
          "data": {
            "text/plain": [
              "<Figure size 432x288 with 1 Axes>"
            ],
            "image/png": "[encoded data removed]"
          },
          "metadata": {
            "needs_background": "light"
          }
        }
      ],
      "source": [
        "# source: Vancouver Sun https://vancouversun.com/news/local-news/covid-19-update-for-july-21-heres-what-you-need-to-know\n",
        "from http.client import HTTPConnection\n",
        "from matplotlib import pyplot as plt\n",
        "from matplotlib.animation import FuncAnimation\n",
        "import random\n",
        "\n",
        "extractText = \"COVID-19 update for July 21:  and 21 deaths over seven days. People gave 1900 comments and 2900 ideas. news reporter says BC has 1044 new cases for this week\" # track by \n",
        "# ----  1,044 new cases AND  1900 comments ------ \n",
        "\n",
        "BCMonthlyBCcase = 4156\n",
        "BcWeeklyCase = 0 # to be compute\n",
        "\n",
        "extractText = extractText.replace(\",\",\"\")\n",
        "totalcase = 0\n",
        "\n",
        "# extract numbers that contains 4 digits\n",
        "def findweekcase(extractText):  \n",
        "  weekcase = 0 \n",
        "  countdigit = 0\n",
        "  all4digits = []\n",
        "  #count = 3\n",
        "  for i in range(len(extractText)): # 0-5 if range(6)\n",
        "    if(extractText[i].isdigit()):\n",
        "      countdigit += 1\n",
        "      if ( 4 == countdigit):\n",
        "        all4digits.append(extractText[i-3] +extractText[i-2] +extractText[i-1]+extractText[i])\n",
        "    else: \n",
        "      countdigit = 0\n",
        "  return all4digits\n",
        "\n",
        "all4digits = findweekcase(extractText) # save array containing all 4 digits\n",
        "\n",
        "\n",
        "# find covid cases based on neigbour behind phrase \n",
        "def numberRefercase(givenSentence,array4digits):  \n",
        "  storeIndex = 0 \n",
        "  extractneighbour = \"\"\n",
        "  numbercovidcase = 0\n",
        "  box = []\n",
        "  for i in range(len(array4digits)):\n",
        "    storeIndex = givenSentence.index(array4digits[i]) # get index position of each number (that is 4 digits)\n",
        "    extractneighbour = givenSentence[storeIndex:storeIndex+20]# extract phrase up to 10 characters that is position behind each number \n",
        "    if \"cases\" in extractneighbour: \n",
        "      numbercovidcase = array4digits[i]\n",
        "    box.append(extractneighbour)\n",
        "\n",
        "  return numbercovidcase\n",
        "\n",
        " \n",
        "BcWeeklyCase = int(numberRefercase(extractText,all4digits))\n",
        "print(\"Month case : green AND Week case : red\")\n",
        "print(\"British Columbia weekly covid case are : \" + str(BcWeeklyCase))\n",
        "print(\"British Columbia monthly covid case are : \" + str(BCMonthlyBCcase))\n",
        "\n",
        "# rescale Weekly & month cases into percentage  \n",
        "weekbyPercentage = (BcWeeklyCase/BCMonthlyBCcase)\n",
        "monthbyPercentage = 1 - weekbyPercentage\n",
        "\n",
        "# determine amount of scatter plot by percentange\n",
        "totalpoints = 50\n",
        "firstscat = int(totalpoints*weekbyPercentage)\n",
        "secondscat = int(totalpoints*monthbyPercentage)\n",
        "\n",
        "# visualize data \n",
        "x = [random.triangular() for i in range(firstscat)]\n",
        "y = [random.gauss(0.5, 0.25) for i in range(firstscat)]\n",
        "\n",
        "x2 = [random.triangular() for i in range(secondscat)]\n",
        "y2 = [random.gauss(0.5, 0.25) for i in range(secondscat)]\n",
        "\n",
        "plt.scatter(x,y, color = 'red')\n",
        "plt.scatter(x2,y2,color = 'green')\n",
        "plt.show()\n",
        "#findweekcase(extractText)\n",
        " \n",
        "# total case extract from net \n",
        "# --- SUB --- \n",
        "# \n",
        "# text extract \n",
        "# text to visualizer "
      ]
    }
  ]
}